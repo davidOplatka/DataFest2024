{
 "cells": [
  {
   "cell_type": "code",
   "execution_count": 1,
   "id": "88f9ab5f-e92c-4de5-842f-7991322c2b24",
   "metadata": {},
   "outputs": [],
   "source": [
    "import numpy as np\n",
    "import pandas as pd\n",
    "import matplotlib.pyplot as plt"
   ]
  },
  {
   "cell_type": "code",
   "execution_count": 2,
   "id": "95d373aa-a687-4fb5-bcb0-33c14de28918",
   "metadata": {},
   "outputs": [
    {
     "name": "stderr",
     "output_type": "stream",
     "text": [
      "C:\\Users\\david\\AppData\\Local\\Temp\\ipykernel_4364\\2664025857.py:1: DtypeWarning: Columns (32,33,34,35,36,37,38,39) have mixed types. Specify dtype option on import or set low_memory=False.\n",
      "  scores = pd.read_csv('Data/Full Data/scores.csv')\n"
     ]
    }
   ],
   "source": [
    "scores = pd.read_csv('Data/Full Data/scores.csv')"
   ]
  },
  {
   "cell_type": "code",
   "execution_count": 3,
   "id": "9210c325-b99e-4066-b4b7-6f02afd6b9d8",
   "metadata": {},
   "outputs": [],
   "source": [
    "scores = scores[scores['attempt'] == 1]"
   ]
  },
  {
   "cell_type": "code",
   "execution_count": 4,
   "id": "07c9df98-b76f-44df-9735-3a54889a8c35",
   "metadata": {},
   "outputs": [
    {
     "data": {
      "text/plain": [
       "(1115812, 42)"
      ]
     },
     "execution_count": 4,
     "metadata": {},
     "output_type": "execute_result"
    }
   ],
   "source": [
    "scores.shape"
   ]
  },
  {
   "cell_type": "code",
   "execution_count": 5,
   "id": "1554cf2f-cc0d-41b6-bc75-31e02c94f5d4",
   "metadata": {},
   "outputs": [
    {
     "data": {
      "text/html": [
       "<div>\n",
       "<style scoped>\n",
       "    .dataframe tbody tr th:only-of-type {\n",
       "        vertical-align: middle;\n",
       "    }\n",
       "\n",
       "    .dataframe tbody tr th {\n",
       "        vertical-align: top;\n",
       "    }\n",
       "\n",
       "    .dataframe thead th {\n",
       "        text-align: right;\n",
       "    }\n",
       "</style>\n",
       "<table border=\"1\" class=\"dataframe\">\n",
       "  <thead>\n",
       "    <tr style=\"text-align: right;\">\n",
       "      <th></th>\n",
       "      <th>book</th>\n",
       "      <th>release</th>\n",
       "      <th>chapter</th>\n",
       "      <th>page</th>\n",
       "      <th>chapter_number</th>\n",
       "      <th>section_number</th>\n",
       "      <th>review_flag</th>\n",
       "      <th>institution_id</th>\n",
       "      <th>class_id</th>\n",
       "      <th>student_id</th>\n",
       "      <th>...</th>\n",
       "      <th>lrn_option_4</th>\n",
       "      <th>lrn_option_5</th>\n",
       "      <th>lrn_option_6</th>\n",
       "      <th>lrn_option_7</th>\n",
       "      <th>lrn_option_8</th>\n",
       "      <th>lrn_option_9</th>\n",
       "      <th>lrn_option_10</th>\n",
       "      <th>lrn_option_11</th>\n",
       "      <th>chapter_topic</th>\n",
       "      <th>page_topic</th>\n",
       "    </tr>\n",
       "  </thead>\n",
       "  <tbody>\n",
       "    <tr>\n",
       "      <th>0</th>\n",
       "      <td>College / Advanced Statistics and Data Science...</td>\n",
       "      <td>v5.0-exp2</td>\n",
       "      <td>Chapter 1 - Welcome to Statistics: A Modeling ...</td>\n",
       "      <td>1.3 Doing Statistics with R</td>\n",
       "      <td>1.0</td>\n",
       "      <td>3.0</td>\n",
       "      <td>False</td>\n",
       "      <td>292cff87-3c74-4e94-8622-233afb0427dd</td>\n",
       "      <td>6fbf5a0a-cf5d-4567-89b5-eb5c4a16c4ab</td>\n",
       "      <td>7535ba88-d131-4eee-b392-36f5e11c85ce</td>\n",
       "      <td>...</td>\n",
       "      <td>NaN</td>\n",
       "      <td>NaN</td>\n",
       "      <td>NaN</td>\n",
       "      <td>NaN</td>\n",
       "      <td>NaN</td>\n",
       "      <td>NaN</td>\n",
       "      <td>NaN</td>\n",
       "      <td>NaN</td>\n",
       "      <td>Welcome to Statistics: A Modeling Approach</td>\n",
       "      <td>Doing Statistics with R</td>\n",
       "    </tr>\n",
       "    <tr>\n",
       "      <th>1</th>\n",
       "      <td>College / Advanced Statistics and Data Science...</td>\n",
       "      <td>v5.0-exp2</td>\n",
       "      <td>Chapter 1 - Welcome to Statistics: A Modeling ...</td>\n",
       "      <td>1.3 Doing Statistics with R</td>\n",
       "      <td>1.0</td>\n",
       "      <td>3.0</td>\n",
       "      <td>False</td>\n",
       "      <td>292cff87-3c74-4e94-8622-233afb0427dd</td>\n",
       "      <td>6fbf5a0a-cf5d-4567-89b5-eb5c4a16c4ab</td>\n",
       "      <td>1d4a6d2c-0cb1-4d19-9218-b673982e9f2f</td>\n",
       "      <td>...</td>\n",
       "      <td>NaN</td>\n",
       "      <td>NaN</td>\n",
       "      <td>NaN</td>\n",
       "      <td>NaN</td>\n",
       "      <td>NaN</td>\n",
       "      <td>NaN</td>\n",
       "      <td>NaN</td>\n",
       "      <td>NaN</td>\n",
       "      <td>Welcome to Statistics: A Modeling Approach</td>\n",
       "      <td>Doing Statistics with R</td>\n",
       "    </tr>\n",
       "    <tr>\n",
       "      <th>2</th>\n",
       "      <td>College / Advanced Statistics and Data Science...</td>\n",
       "      <td>v5.0-exp2</td>\n",
       "      <td>Chapter 1 - Welcome to Statistics: A Modeling ...</td>\n",
       "      <td>1.3 Doing Statistics with R</td>\n",
       "      <td>1.0</td>\n",
       "      <td>3.0</td>\n",
       "      <td>False</td>\n",
       "      <td>292cff87-3c74-4e94-8622-233afb0427dd</td>\n",
       "      <td>6fbf5a0a-cf5d-4567-89b5-eb5c4a16c4ab</td>\n",
       "      <td>94a09f74-2d8c-4379-92ad-7fe5b02ec188</td>\n",
       "      <td>...</td>\n",
       "      <td>NaN</td>\n",
       "      <td>NaN</td>\n",
       "      <td>NaN</td>\n",
       "      <td>NaN</td>\n",
       "      <td>NaN</td>\n",
       "      <td>NaN</td>\n",
       "      <td>NaN</td>\n",
       "      <td>NaN</td>\n",
       "      <td>Welcome to Statistics: A Modeling Approach</td>\n",
       "      <td>Doing Statistics with R</td>\n",
       "    </tr>\n",
       "    <tr>\n",
       "      <th>3</th>\n",
       "      <td>College / Advanced Statistics and Data Science...</td>\n",
       "      <td>v5.0-exp2</td>\n",
       "      <td>Chapter 1 - Welcome to Statistics: A Modeling ...</td>\n",
       "      <td>1.3 Doing Statistics with R</td>\n",
       "      <td>1.0</td>\n",
       "      <td>3.0</td>\n",
       "      <td>False</td>\n",
       "      <td>292cff87-3c74-4e94-8622-233afb0427dd</td>\n",
       "      <td>6fbf5a0a-cf5d-4567-89b5-eb5c4a16c4ab</td>\n",
       "      <td>20a47775-9594-4800-9857-fd09633c561f</td>\n",
       "      <td>...</td>\n",
       "      <td>NaN</td>\n",
       "      <td>NaN</td>\n",
       "      <td>NaN</td>\n",
       "      <td>NaN</td>\n",
       "      <td>NaN</td>\n",
       "      <td>NaN</td>\n",
       "      <td>NaN</td>\n",
       "      <td>NaN</td>\n",
       "      <td>Welcome to Statistics: A Modeling Approach</td>\n",
       "      <td>Doing Statistics with R</td>\n",
       "    </tr>\n",
       "    <tr>\n",
       "      <th>4</th>\n",
       "      <td>College / Advanced Statistics and Data Science...</td>\n",
       "      <td>v5.0-exp2</td>\n",
       "      <td>Chapter 1 - Welcome to Statistics: A Modeling ...</td>\n",
       "      <td>1.3 Doing Statistics with R</td>\n",
       "      <td>1.0</td>\n",
       "      <td>3.0</td>\n",
       "      <td>False</td>\n",
       "      <td>292cff87-3c74-4e94-8622-233afb0427dd</td>\n",
       "      <td>6fbf5a0a-cf5d-4567-89b5-eb5c4a16c4ab</td>\n",
       "      <td>7ea35ae6-4aee-4c17-b96a-e1ecb27f2b42</td>\n",
       "      <td>...</td>\n",
       "      <td>NaN</td>\n",
       "      <td>NaN</td>\n",
       "      <td>NaN</td>\n",
       "      <td>NaN</td>\n",
       "      <td>NaN</td>\n",
       "      <td>NaN</td>\n",
       "      <td>NaN</td>\n",
       "      <td>NaN</td>\n",
       "      <td>Welcome to Statistics: A Modeling Approach</td>\n",
       "      <td>Doing Statistics with R</td>\n",
       "    </tr>\n",
       "  </tbody>\n",
       "</table>\n",
       "<p>5 rows × 42 columns</p>\n",
       "</div>"
      ],
      "text/plain": [
       "                                                book    release  \\\n",
       "0  College / Advanced Statistics and Data Science...  v5.0-exp2   \n",
       "1  College / Advanced Statistics and Data Science...  v5.0-exp2   \n",
       "2  College / Advanced Statistics and Data Science...  v5.0-exp2   \n",
       "3  College / Advanced Statistics and Data Science...  v5.0-exp2   \n",
       "4  College / Advanced Statistics and Data Science...  v5.0-exp2   \n",
       "\n",
       "                                             chapter  \\\n",
       "0  Chapter 1 - Welcome to Statistics: A Modeling ...   \n",
       "1  Chapter 1 - Welcome to Statistics: A Modeling ...   \n",
       "2  Chapter 1 - Welcome to Statistics: A Modeling ...   \n",
       "3  Chapter 1 - Welcome to Statistics: A Modeling ...   \n",
       "4  Chapter 1 - Welcome to Statistics: A Modeling ...   \n",
       "\n",
       "                          page  chapter_number  section_number  review_flag  \\\n",
       "0  1.3 Doing Statistics with R             1.0             3.0        False   \n",
       "1  1.3 Doing Statistics with R             1.0             3.0        False   \n",
       "2  1.3 Doing Statistics with R             1.0             3.0        False   \n",
       "3  1.3 Doing Statistics with R             1.0             3.0        False   \n",
       "4  1.3 Doing Statistics with R             1.0             3.0        False   \n",
       "\n",
       "                         institution_id                              class_id  \\\n",
       "0  292cff87-3c74-4e94-8622-233afb0427dd  6fbf5a0a-cf5d-4567-89b5-eb5c4a16c4ab   \n",
       "1  292cff87-3c74-4e94-8622-233afb0427dd  6fbf5a0a-cf5d-4567-89b5-eb5c4a16c4ab   \n",
       "2  292cff87-3c74-4e94-8622-233afb0427dd  6fbf5a0a-cf5d-4567-89b5-eb5c4a16c4ab   \n",
       "3  292cff87-3c74-4e94-8622-233afb0427dd  6fbf5a0a-cf5d-4567-89b5-eb5c4a16c4ab   \n",
       "4  292cff87-3c74-4e94-8622-233afb0427dd  6fbf5a0a-cf5d-4567-89b5-eb5c4a16c4ab   \n",
       "\n",
       "                             student_id  ... lrn_option_4 lrn_option_5  \\\n",
       "0  7535ba88-d131-4eee-b392-36f5e11c85ce  ...          NaN          NaN   \n",
       "1  1d4a6d2c-0cb1-4d19-9218-b673982e9f2f  ...          NaN          NaN   \n",
       "2  94a09f74-2d8c-4379-92ad-7fe5b02ec188  ...          NaN          NaN   \n",
       "3  20a47775-9594-4800-9857-fd09633c561f  ...          NaN          NaN   \n",
       "4  7ea35ae6-4aee-4c17-b96a-e1ecb27f2b42  ...          NaN          NaN   \n",
       "\n",
       "  lrn_option_6 lrn_option_7  lrn_option_8  lrn_option_9 lrn_option_10  \\\n",
       "0          NaN          NaN           NaN           NaN           NaN   \n",
       "1          NaN          NaN           NaN           NaN           NaN   \n",
       "2          NaN          NaN           NaN           NaN           NaN   \n",
       "3          NaN          NaN           NaN           NaN           NaN   \n",
       "4          NaN          NaN           NaN           NaN           NaN   \n",
       "\n",
       "   lrn_option_11                                chapter_topic  \\\n",
       "0            NaN   Welcome to Statistics: A Modeling Approach   \n",
       "1            NaN   Welcome to Statistics: A Modeling Approach   \n",
       "2            NaN   Welcome to Statistics: A Modeling Approach   \n",
       "3            NaN   Welcome to Statistics: A Modeling Approach   \n",
       "4            NaN   Welcome to Statistics: A Modeling Approach   \n",
       "\n",
       "                page_topic  \n",
       "0  Doing Statistics with R  \n",
       "1  Doing Statistics with R  \n",
       "2  Doing Statistics with R  \n",
       "3  Doing Statistics with R  \n",
       "4  Doing Statistics with R  \n",
       "\n",
       "[5 rows x 42 columns]"
      ]
     },
     "execution_count": 5,
     "metadata": {},
     "output_type": "execute_result"
    }
   ],
   "source": [
    "scores.head()"
   ]
  },
  {
   "cell_type": "code",
   "execution_count": 6,
   "id": "25aa7e0a-2e80-4821-9d87-532e1decf49f",
   "metadata": {},
   "outputs": [
    {
     "data": {
      "text/plain": [
       "1563"
      ]
     },
     "execution_count": 6,
     "metadata": {},
     "output_type": "execute_result"
    }
   ],
   "source": [
    "scores['student_id'].nunique()"
   ]
  },
  {
   "cell_type": "code",
   "execution_count": 7,
   "id": "536643c3-bc30-46d7-8a59-f2c4222ad22f",
   "metadata": {},
   "outputs": [
    {
     "data": {
      "text/plain": [
       "student_id\n",
       "9455ad1a-55b6-44a1-82bc-7d21bc948f5c    1880\n",
       "843dd9e2-98fd-4fce-9ac2-bcbe7ef7ee88    1849\n",
       "1e6074a0-4b62-4bd6-8739-5e3edeb786a2    1849\n",
       "43cbccae-8a82-401c-a38d-9f43bbc5a163    1849\n",
       "7867fc31-3814-4d08-8d68-0336c3df8649    1849\n",
       "                                        ... \n",
       "6d566358-f02f-436c-aba1-e0afd3b5bdd7       2\n",
       "41f40590-73d2-4456-a82c-af900d8f9e49       1\n",
       "e69ab722-c400-4135-b0d6-60b90cb39e12       1\n",
       "d89259e6-5688-4097-9ac7-37043297f498       1\n",
       "229f131c-fe22-40d9-a82b-1bd12898eaf3       1\n",
       "Name: book, Length: 1563, dtype: int64"
      ]
     },
     "execution_count": 7,
     "metadata": {},
     "output_type": "execute_result"
    }
   ],
   "source": [
    "scores.groupby('student_id')['book'].count().sort_values(ascending = False)"
   ]
  },
  {
   "cell_type": "code",
   "execution_count": 8,
   "id": "483f22ff-0a6d-4385-a2ad-36aefc3b9650",
   "metadata": {},
   "outputs": [
    {
     "data": {
      "text/plain": [
       "student_id\n",
       "001824fb-a2fd-431d-aef6-7a1250d97a62    0.746432\n",
       "0096491a-77bf-4e79-b906-fc7a8e5e57a6    0.632094\n",
       "00a53a52-aa0e-4ddc-afa8-2c50c21dfd03    0.622478\n",
       "00fe5bb2-6b64-4a36-a706-eac4dc124ea7    0.858511\n",
       "016e2fcf-0cc2-42ad-844d-e1057b5081cc    0.825000\n",
       "                                          ...   \n",
       "fecf18d0-a58a-4d11-a353-ea73fbfa6860    0.397229\n",
       "fef083e8-7167-4f42-82d5-d2e893aa408a    0.706070\n",
       "ff548e42-0011-4dd7-ab46-2552503ad60c    0.805556\n",
       "ff55bab4-812b-405b-9856-8bedf9fb11f9    0.786116\n",
       "ff6ec9fe-de1d-4b45-8136-59465d9c85ab    0.567912\n",
       "Length: 1563, dtype: float64"
      ]
     },
     "execution_count": 8,
     "metadata": {},
     "output_type": "execute_result"
    }
   ],
   "source": [
    "scores.groupby('student_id')['points_earned'].sum() / scores.groupby('student_id')['points_possible'].sum()"
   ]
  },
  {
   "cell_type": "code",
   "execution_count": 9,
   "id": "978c1c7b-2e87-49dd-9b97-d5d0fcdd4424",
   "metadata": {},
   "outputs": [
    {
     "data": {
      "image/png": "[encoded data removed]",
      "text/plain": [
       "<Figure size 640x480 with 1 Axes>"
      ]
     },
     "metadata": {},
     "output_type": "display_data"
    }
   ],
   "source": [
    "plt.boxplot(scores.groupby('student_id')['points_earned'].sum() / scores.groupby('student_id')['points_possible'].sum())\n",
    "plt.show()"
   ]
  },
  {
   "cell_type": "code",
   "execution_count": 10,
   "id": "debdb9ee-ca84-49fa-acf1-97a87f4c6969",
   "metadata": {},
   "outputs": [
    {
     "data": {
      "image/png": "[encoded data removed]",
      "text/plain": [
       "<Figure size 640x480 with 1 Axes>"
      ]
     },
     "metadata": {},
     "output_type": "display_data"
    }
   ],
   "source": [
    "plt.hist(scores.groupby('student_id')['points_earned'].sum() / scores.groupby('student_id')['points_possible'].sum())\n",
    "plt.show()"
   ]
  },
  {
   "cell_type": "code",
   "execution_count": 11,
   "id": "708fbb3d-f0f2-4df6-bda2-deb692b7eadf",
   "metadata": {},
   "outputs": [
    {
     "data": {
      "text/plain": [
       "(1115812, 42)"
      ]
     },
     "execution_count": 11,
     "metadata": {},
     "output_type": "execute_result"
    }
   ],
   "source": [
    "scores.shape"
   ]
  },
  {
   "cell_type": "code",
   "execution_count": 12,
   "id": "0cbcc5af-8843-43fa-b9eb-054f21c6cc41",
   "metadata": {},
   "outputs": [
    {
     "data": {
      "text/plain": [
       "(911, 42)"
      ]
     },
     "execution_count": 12,
     "metadata": {},
     "output_type": "execute_result"
    }
   ],
   "source": [
    "scores[scores['student_id'] == '001824fb-a2fd-431d-aef6-7a1250d97a62'].shape"
   ]
  },
  {
   "cell_type": "code",
   "execution_count": 13,
   "id": "7e7c8391-3e0a-4d4d-88b5-0d36dd66c354",
   "metadata": {},
   "outputs": [
    {
     "data": {
      "text/plain": [
       "student_id\n",
       "ff6ec9fe-de1d-4b45-8136-59465d9c85ab    148\n",
       "bfc98bf9-8728-4360-9197-5c82d49f3c4a    148\n",
       "cd6e760d-a5e0-4465-aaa7-51357411939d    148\n",
       "c9e2802f-0b56-47e3-bd01-024cf585a478    148\n",
       "c8b42c6e-6b41-47ba-b1a2-1feefda6d153    148\n",
       "                                       ... \n",
       "3d9df5b5-e1d7-40c5-ad24-ef6cf9e5bb62      1\n",
       "6d566358-f02f-436c-aba1-e0afd3b5bdd7      1\n",
       "229f131c-fe22-40d9-a82b-1bd12898eaf3      1\n",
       "d6f2bf22-a116-4212-a657-8aa70e4ad866      1\n",
       "7a26ed43-861a-41e6-8193-0bc925ab3c5a      1\n",
       "Name: page_topic, Length: 1563, dtype: int64"
      ]
     },
     "execution_count": 13,
     "metadata": {},
     "output_type": "execute_result"
    }
   ],
   "source": [
    "scores.groupby('student_id')['page_topic'].nunique().sort_values(ascending = False)"
   ]
  },
  {
   "cell_type": "code",
   "execution_count": 14,
   "id": "fc819400-f49c-4c75-bb67-6ee450d19d21",
   "metadata": {},
   "outputs": [],
   "source": [
    "topic_counts = scores.groupby('student_id')['page_topic'].nunique()"
   ]
  },
  {
   "cell_type": "code",
   "execution_count": 15,
   "id": "5a02923f-39e2-4612-b78d-8b9f429cd87c",
   "metadata": {},
   "outputs": [],
   "source": [
    "bad_students = topic_counts[topic_counts < 10].index"
   ]
  },
  {
   "cell_type": "code",
   "execution_count": 16,
   "id": "30564852-abc9-4d54-8213-7ed98b4065f7",
   "metadata": {},
   "outputs": [],
   "source": [
    "scores = scores[~scores['student_id'].isin(bad_students)]"
   ]
  },
  {
   "cell_type": "code",
   "execution_count": 17,
   "id": "f5a540f8-929a-414f-a50c-7016e0dcd921",
   "metadata": {},
   "outputs": [],
   "source": [
    "scores.reset_index(drop = True, inplace = True)"
   ]
  },
  {
   "cell_type": "code",
   "execution_count": 18,
   "id": "2938820e-49dc-49e4-a08f-5ba76e6fd3b1",
   "metadata": {},
   "outputs": [
    {
     "data": {
      "text/plain": [
       "student_id\n",
       "ff6ec9fe-de1d-4b45-8136-59465d9c85ab    148\n",
       "c2df6a43-9caf-4e41-9ed5-690e15bde140    148\n",
       "cd6e760d-a5e0-4465-aaa7-51357411939d    148\n",
       "eccad7b2-f533-4479-8342-c457275e39c8    148\n",
       "7d8f4e24-9586-487b-9a94-c8f2f4f495f2    148\n",
       "                                       ... \n",
       "6b27d0d1-16b5-4371-9310-54e53f2c1965     11\n",
       "b63b584c-a69e-4e9d-ba57-efd9ecbeab77     11\n",
       "7c7e05dd-5555-4838-97b0-47b2e87bcf3a     11\n",
       "21b7aa18-5d8b-4c13-a18a-ecf1096290b4     11\n",
       "9d086003-07ae-4340-9d36-84074446fa30     10\n",
       "Name: page_topic, Length: 1479, dtype: int64"
      ]
     },
     "execution_count": 18,
     "metadata": {},
     "output_type": "execute_result"
    }
   ],
   "source": [
    "scores.groupby('student_id')['page_topic'].nunique().sort_values(ascending = False)"
   ]
  },
  {
   "cell_type": "code",
   "execution_count": 19,
   "id": "2f89cd1a-d887-4917-8cb4-a0897644da94",
   "metadata": {},
   "outputs": [
    {
     "data": {
      "image/png": "[encoded data removed]",
      "text/plain": [
       "<Figure size 640x480 with 1 Axes>"
      ]
     },
     "metadata": {},
     "output_type": "display_data"
    }
   ],
   "source": [
    "plt.boxplot(scores.groupby('student_id')['page_topic'].nunique())\n",
    "plt.show()"
   ]
  }
 ],
 "metadata": {
  "kernelspec": {
   "display_name": "Python 3.11.7 ('m148')",
   "language": "python",
   "name": "python3"
  },
  "language_info": {
   "codemirror_mode": {
    "name": "ipython",
    "version": 3
   },
   "file_extension": ".py",
   "mimetype": "text/x-python",
   "name": "python",
   "nbconvert_exporter": "python",
   "pygments_lexer": "ipython3",
   "version": "3.11.7"
  },
  "vscode": {
   "interpreter": {
    "hash": "a2720be4e965180de30c1a654acfdd0c1b9dd1ebbf99285d20051f30c1cfe82a"
   }
  }
 },
 "nbformat": 4,
 "nbformat_minor": 5
}
