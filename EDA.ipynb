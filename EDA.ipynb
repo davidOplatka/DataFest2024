{
 "cells": [
  {
   "cell_type": "code",
   "id": "initial_id",
   "metadata": {
    "collapsed": true,
    "ExecuteTime": {
     "end_time": "2024-04-27T04:53:25.408161Z",
     "start_time": "2024-04-27T04:53:25.405536Z"
    }
   },
   "source": [
    "import pandas as pd\n",
    "import matplotlib.pyplot as plt \n",
    "import seaborn as sns \n",
    "import numpy as np\n",
    "import warnings as w\n",
    "import sklearn as sk \n",
    "w.filterwarnings('ignore')"
   ],
   "outputs": [],
   "execution_count": 63
  },
  {
   "metadata": {
    "ExecuteTime": {
     "end_time": "2024-04-27T04:59:08.653377Z",
     "start_time": "2024-04-27T04:58:50.473120Z"
    }
   },
   "cell_type": "code",
   "source": [
    "media_df = pd.read_csv(\"Data/Full Data/media_views.csv\")\n",
    "page_df = pd.read_csv(\"Data/Full Data/page_views.csv\")\n",
    "responses = pd.read_csv(\"Data/Full Data/responses.csv\")"
   ],
   "id": "a6adea4dbafdbeff",
   "outputs": [],
   "execution_count": 75
  },
  {
   "metadata": {
    "ExecuteTime": {
     "end_time": "2024-04-27T04:53:43.734974Z",
     "start_time": "2024-04-27T04:53:43.732264Z"
    }
   },
   "cell_type": "code",
   "source": [
    "# group by the student Id \n",
    "# media_df = media_df.groupby('student_id')\n",
    "# page_df = page_df.groupby('student_id')\n",
    "# responses = responses.groupby('student_id')"
   ],
   "id": "9bf14476813af45e",
   "outputs": [],
   "execution_count": 65
  },
  {
   "metadata": {
    "ExecuteTime": {
     "end_time": "2024-04-27T04:53:43.738318Z",
     "start_time": "2024-04-27T04:53:43.736129Z"
    }
   },
   "cell_type": "code",
   "source": "#TODO: find the correlations between the time engaged, proportion of video watched, and the percentage of points that the student got\n",
   "id": "b64813407e723ef6",
   "outputs": [],
   "execution_count": 66
  },
  {
   "metadata": {},
   "cell_type": "code",
   "outputs": [],
   "execution_count": null,
   "source": [
    "#plot the correlation between the time spent off page brief and the number of attempts the student used for the questions \n",
    "#create new df with columns number of attempts from responses and the off_page_brief from page_df\n"
   ],
   "id": "3caceaa1fa930c76"
  },
  {
   "metadata": {
    "ExecuteTime": {
     "end_time": "2024-04-27T04:59:52.353715Z",
     "start_time": "2024-04-27T04:59:52.128232Z"
    }
   },
   "cell_type": "code",
   "source": [
    "#merge the two dataframes\n",
    "df = pd.concat([page_df['off_page_brief'], responses['attempt']], axis=1)\n",
    "correlation = df.corr()0--0=\n",
    "sns.heatmap(correlation, annot=True)"
   ],
   "id": "7f435beac530efde",
   "outputs": [
    {
     "data": {
      "text/plain": [
       "<Axes: >"
      ]
     },
     "execution_count": 78,
     "metadata": {},
     "output_type": "execute_result"
    },
    {
     "data": {
      "text/plain": [
       "<Figure size 640x480 with 2 Axes>"
      ],
      "image/png": "[encoded data removed]"
     },
     "metadata": {},
     "output_type": "display_data"
    }
   ],
   "execution_count": 78
  },
  {
   "metadata": {
    "ExecuteTime": {
     "end_time": "2024-04-27T04:54:25.170041Z",
     "start_time": "2024-04-27T04:54:25.161936Z"
    }
   },
   "cell_type": "code",
   "source": "",
   "id": "31b2613ab2ae9da",
   "outputs": [
    {
     "data": {
      "text/plain": [
       "                  off_page_brief\n",
       "point_percentage                \n",
       "1.0                      25928.0\n",
       "1.0                      25928.0\n",
       "1.0                      25928.0\n",
       "1.0                      25928.0\n",
       "1.0                      25928.0"
      ],
      "text/html": [
       "<div>\n",
       "<style scoped>\n",
       "    .dataframe tbody tr th:only-of-type {\n",
       "        vertical-align: middle;\n",
       "    }\n",
       "\n",
       "    .dataframe tbody tr th {\n",
       "        vertical-align: top;\n",
       "    }\n",
       "\n",
       "    .dataframe thead th {\n",
       "        text-align: right;\n",
       "    }\n",
       "</style>\n",
       "<table border=\"1\" class=\"dataframe\">\n",
       "  <thead>\n",
       "    <tr style=\"text-align: right;\">\n",
       "      <th></th>\n",
       "      <th>off_page_brief</th>\n",
       "    </tr>\n",
       "    <tr>\n",
       "      <th>point_percentage</th>\n",
       "      <th></th>\n",
       "    </tr>\n",
       "  </thead>\n",
       "  <tbody>\n",
       "    <tr>\n",
       "      <th>1.0</th>\n",
       "      <td>25928.0</td>\n",
       "    </tr>\n",
       "    <tr>\n",
       "      <th>1.0</th>\n",
       "      <td>25928.0</td>\n",
       "    </tr>\n",
       "    <tr>\n",
       "      <th>1.0</th>\n",
       "      <td>25928.0</td>\n",
       "    </tr>\n",
       "    <tr>\n",
       "      <th>1.0</th>\n",
       "      <td>25928.0</td>\n",
       "    </tr>\n",
       "    <tr>\n",
       "      <th>1.0</th>\n",
       "      <td>25928.0</td>\n",
       "    </tr>\n",
       "  </tbody>\n",
       "</table>\n",
       "</div>"
      ]
     },
     "execution_count": 70,
     "metadata": {},
     "output_type": "execute_result"
    }
   ],
   "execution_count": 70
  },
  {
   "metadata": {
    "ExecuteTime": {
     "end_time": "2024-04-27T05:17:24.714795Z",
     "start_time": "2024-04-27T05:17:22.422324Z"
    }
   },
   "cell_type": "code",
   "source": [
    "# find the number of studeents per institution and divide iu by the number of classes per institution\n",
    "grouped_responses = responses.groupby('institution_id')\n",
    "for key in grouped_responses.groups.keys():\n",
    "    student_count = grouped_responses.get_group(key).student_id.nunique()\n",
    "    class_count = grouped_responses.get_group(key).class_id.nunique()\n",
    "    average_class_size = student_count/class_count\n",
    "    print(f\"Average class size for institution {key} is {average_class_size}\")\n"
   ],
   "id": "2e1e9a42e4545e46",
   "outputs": [
    {
     "name": "stdout",
     "output_type": "stream",
     "text": [
      "Average class size for institution 04157183-8665-400a-925d-3bbb70ffe45e is 27.0\n",
      "Average class size for institution 292cff87-3c74-4e94-8622-233afb0427dd is 123.16666666666667\n",
      "Average class size for institution 2f830a93-5a14-4aff-a6e8-c7d2562e2007 is 46.0\n",
      "Average class size for institution 364da48a-e0b2-4507-bc31-e7761fe16e95 is 20.6\n",
      "Average class size for institution 94a809a9-a0ef-4c47-8d96-3a5ad76f674b is 22.0\n",
      "Average class size for institution 97aebe75-a051-4bff-a2c0-1d53eb5d9498 is 22.0\n",
      "Average class size for institution be43fa14-0937-40a4-bad9-d96294e565e3 is 4.0\n",
      "Average class size for institution c699dd97-e5a4-49ce-9718-877a81b1d475 is 32.0\n",
      "Average class size for institution d2e6c885-36f4-48b9-988b-42eef1f8ed9d is 7.5\n",
      "Average class size for institution f17495c5-e105-492d-878a-07a03ea3f805 is 19.0\n",
      "Average class size for institution fc5f1b1b-2aeb-4e09-93fc-06fdac0d8030 is 12.0\n"
     ]
    }
   ],
   "execution_count": 82
  },
  {
   "metadata": {},
   "cell_type": "code",
   "outputs": [],
   "execution_count": null,
   "source": "",
   "id": "b50faf6b0807be56"
  }
 ],
 "metadata": {
  "kernelspec": {
   "display_name": "Python 3",
   "language": "python",
   "name": "python3"
  },
  "language_info": {
   "codemirror_mode": {
    "name": "ipython",
    "version": 2
   },
   "file_extension": ".py",
   "mimetype": "text/x-python",
   "name": "python",
   "nbconvert_exporter": "python",
   "pygments_lexer": "ipython2",
   "version": "2.7.6"
  }
 },
 "nbformat": 4,
 "nbformat_minor": 5
}
